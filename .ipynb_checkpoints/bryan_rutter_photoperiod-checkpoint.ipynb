{
 "cells": [
  {
   "cell_type": "markdown",
   "metadata": {},
   "source": [
    "# Challenge: Photoperiod\n",
    "Name: Bryan Rutter  \n",
    "Date: 10 February 2020  "
   ]
  },
  {
   "cell_type": "code",
   "execution_count": 2,
   "metadata": {},
   "outputs": [],
   "source": [
    "# Import required modules\n",
    "import math, datetime"
   ]
  },
  {
   "cell_type": "code",
   "execution_count": 3,
   "metadata": {},
   "outputs": [
    {
     "name": "stdin",
     "output_type": "stream",
     "text": [
      "Enter the date in question as \"dd-mmm-yyyy\" (e.g. 15-nov-2020) 20-jul-1981\n",
      "Enter the lattitude of the site in question in decimal format (e.g. 33.4) 33.4\n"
     ]
    }
   ],
   "source": [
    "date_str = str.lower(input(prompt='Enter the date in question as \"dd-mmm-yyyy\" (e.g. 15-nov-2020)')) # open prompt for user date input, convert subsequent string to lower-case\n",
    "                                                                                                     # to avoid problems with capitalized letters in month\n",
    "lattitude_str = input(prompt='Enter the lattitude of the site in question in decimal format (e.g. 33.4)') # open promt for user lattitude input"
   ]
  },
  {
   "cell_type": "code",
   "execution_count": 4,
   "metadata": {},
   "outputs": [],
   "source": [
    "# Format user inputs\n",
    "t = datetime.datetime.timetuple(datetime.datetime.strptime(date_str,'%d-%b-%Y')).tm_yday # Convert user input date from string to timetuple and extract day of the year\n",
    "lattitude_deg = float(lattitude_str) # Convert user input lattitude from string to a float type"
   ]
  },
  {
   "cell_type": "code",
   "execution_count": 39,
   "metadata": {},
   "outputs": [],
   "source": [
    "# Define parameters\n",
    "light_intensity = 2.206*10**-3 # cal cm^-2 min^-1\n",
    "lattitude_rad = math.radians(lattitude_deg) # Convert the user supplied lattitude to radians\n",
    "B = -4.76 - 1.03*math.log(light_intensity) # Calculate angle of sun below horizon\n",
    "alpha_rad = math.radians(90+B) # Calculate zenith distance\n",
    "M_rad = math.radians(0.985600*t - 3.251) # Calculate mean anomaly of the sun\n",
    "Lambda_rad = math.radians(math.degrees(M_rad) + 1.916*math.sin(M_rad) + 0.020*math.sin(2*M_rad) + 282.565) # calculate lambda\n",
    "Delta_rad = math.asin(0.39779*math.sin(Lambda_rad)) # calculate angle of declination\n",
    "day_length = 2/15*math.degrees(math.acos(math.cos(alpha_rad)*1/math.cos(lattitude_rad)*1/math.cos(Delta_rad)-math.tan(lattitude_rad)*math.tan(Delta_rad))) # calculate day length in hours.."
   ]
  },
  {
   "cell_type": "code",
   "execution_count": 76,
   "metadata": {},
   "outputs": [
    {
     "name": "stdout",
     "output_type": "stream",
     "text": [
      "-------------------------\n",
      "Results:\n",
      "On 20-JUL-1981, locations near 33.4° lattitude received, or will recieve, approximately 14.2 hours of daylight.\n",
      "-------------------------\n",
      "Summary:\n",
      "Day (Year) = 201 (1981)\n",
      "Lattitude = 33.4°\n",
      "B = 1.54\n",
      "Zenith (a) = 91.54°\n",
      "Mean anomaly (M) = 194.8546°\n",
      "lambda = 476.94°\n",
      "Declination (Delta) = 20.77°\n",
      "-------------------------\n"
     ]
    }
   ],
   "source": [
    "# print output and summarize results.. \n",
    "## this is probably more verbose than it needs to be. I was just playing around with the code a bit.\n",
    "header = \"-\"*25 # can repeat characters in a string easy this way to make borders\n",
    "print(header,\"\\nResults:\",\"\\nOn \",str.upper(date_str),\", locations near \", lattitude_str,\"\\xb0\", \" lattitude\",\" received, or will recieve, approximately \", round(day_length,2),\" hours of daylight.\",\n",
    "      '\\n',header,\n",
    "      \"\\nSummary:\",\n",
    "      \"\\nDay (Year) = \",t,\" (\",date_str[7:11],\")\",\n",
    "      \"\\nLattitude = \", lattitude_str, \"°\",\n",
    "      \"\\nB = \", round(B,2),\n",
    "      \"\\nZenith (a) = \", round(math.degrees(alpha_rad),2),\"°\",\n",
    "      \"\\nMean anomaly (M) = \", math.degrees(M_rad),\"°\",\n",
    "      \"\\nlambda = \", round(math.degrees(Lambda_rad),2),\"°\"\n",
    "      \"\\nDeclination (Delta) = \", round(math.degrees(Delta_rad),2),\"°\",\n",
    "      \"\\n\",header,\n",
    "      sep=\"\")"
   ]
  }
 ],
 "metadata": {
  "kernelspec": {
   "display_name": "Python 3",
   "language": "python",
   "name": "python3"
  },
  "language_info": {
   "codemirror_mode": {
    "name": "ipython",
    "version": 3
   },
   "file_extension": ".py",
   "mimetype": "text/x-python",
   "name": "python",
   "nbconvert_exporter": "python",
   "pygments_lexer": "ipython3",
   "version": "3.7.4"
  }
 },
 "nbformat": 4,
 "nbformat_minor": 4
}
