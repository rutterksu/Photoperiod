{
 "cells": [
  {
   "cell_type": "markdown",
   "metadata": {},
   "source": [
    "# Challenge: Photoperiod\n",
    "Name: Bryan Rutter  \n",
    "Date: 10 February 2020  "
   ]
  },
  {
   "cell_type": "code",
   "execution_count": 190,
   "metadata": {},
   "outputs": [],
   "source": [
    "# Import required modules\n",
    "import math, datetime"
   ]
  },
  {
   "cell_type": "code",
   "execution_count": 195,
   "metadata": {},
   "outputs": [
    {
     "name": "stdin",
     "output_type": "stream",
     "text": [
      "Enter the date in question as \"dd-mmm-yyyy\" (e.g. 15-nov-2020) 21-jul-1981\n",
      "Enter the lattitude of the site in question in decimal format (e.g. 33.4) 33.4\n"
     ]
    }
   ],
   "source": [
    "date_str = str.lower(input(prompt='Enter the date in question as \"dd-mmm-yyyy\" (e.g. 15-nov-2020)'))\n",
    "lattitude_str = input(prompt='Enter the lattitude of the site in question in decimal format (e.g. 33.4)')"
   ]
  },
  {
   "cell_type": "code",
   "execution_count": 196,
   "metadata": {},
   "outputs": [],
   "source": [
    "# Format user inputs\n",
    "t = datetime.datetime.timetuple(datetime.datetime.strptime(date_str,'%d-%b-%Y')).tm_yday # Convert user input date from string to timetuple and extract day of year\n",
    "lattitude_deg = float(lattitude_str) # Convert user input lattitude to a float"
   ]
  },
  {
   "cell_type": "code",
   "execution_count": 201,
   "metadata": {},
   "outputs": [],
   "source": [
    "# Define parameters\n",
    "light_intensity = 2.206*10**-3 # cal cm^-2 min^-1\n",
    "lattitude_rad = math.radians(lattitude_deg) # convert the user supplied lattitude to radians\n",
    "B_rad = math.radians(-4.76 - 1.03*math.log(light_intensity))\n",
    "alpha_rad = math.radians(90+B_deg)\n",
    "M_rad = math.radians(0.985600*t - 3.251)\n",
    "Lambda_rad = math.radians(math.degrees(M_rad) + 1.916*math.sin(M_rad) + 0.020*math.sin(2*M_rad) + 282.565)\n",
    "Delta_rad = math.asin(0.39779*math.sin(Lambda_rad))\n",
    "day_length = 2/15*math.degrees(math.acos(math.cos(alpha_rad)*1/math.cos(lattitude)*1/math.cos(Delta_rad)-math.tan(lattitude)*math.tan(Delta_rad)))"
   ]
  },
  {
   "cell_type": "code",
   "execution_count": 220,
   "metadata": {},
   "outputs": [
    {
     "name": "stdout",
     "output_type": "stream",
     "text": [
      "On 21-JUL-1981, locations near 33.4° lattitude will receive approximately 14.18 hours of daylight\n"
     ]
    }
   ],
   "source": [
    "print(\"On \",str.upper(date_str),\", locations near \", lattitude_str,\"\\xb0\", \" lattitude\",\" will receive approximately \", round(day_length,2),\" hours of daylight\",\n",
    "      sep=\"\")"
   ]
  }
 ],
 "metadata": {
  "kernelspec": {
   "display_name": "Python 3",
   "language": "python",
   "name": "python3"
  },
  "language_info": {
   "codemirror_mode": {
    "name": "ipython",
    "version": 3
   },
   "file_extension": ".py",
   "mimetype": "text/x-python",
   "name": "python",
   "nbconvert_exporter": "python",
   "pygments_lexer": "ipython3",
   "version": "3.7.4"
  }
 },
 "nbformat": 4,
 "nbformat_minor": 4
}
