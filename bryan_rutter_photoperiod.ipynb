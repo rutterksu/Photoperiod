{
 "cells": [
  {
   "cell_type": "markdown",
   "metadata": {},
   "source": [
    "# Challenge: Photoperiod\n",
    "Name: Bryan Rutter  \n",
    "Date: 10 February 2020  "
   ]
  },
  {
   "cell_type": "code",
   "execution_count": 14,
   "metadata": {},
   "outputs": [],
   "source": [
    "# Import required modules\n",
    "import math, datetime"
   ]
  },
  {
   "cell_type": "code",
   "execution_count": 55,
   "metadata": {},
   "outputs": [
    {
     "name": "stdout",
     "output_type": "stream",
     "text": [
      "201\n"
     ]
    }
   ],
   "source": [
    "#Date = input(\"Enter the date in format 'dd-Mmm-yyyy' (e.g. 15-Nov-2020)\")\n",
    "start_day = datetime.datetime(1981, 1, 1) # First day of the year\n",
    "end_day = datetime.datetime(1981, 7, 20) # User specified date\n",
    "delta_days = end_day - start_day # compute Julian days elapsed since first day of year\n",
    "t = delta_days.days + 1 # add one to include 1st day of the year in the count"
   ]
  },
  {
   "cell_type": "code",
   "execution_count": 123,
   "metadata": {},
   "outputs": [
    {
     "data": {
      "text/plain": [
       "12.201547860431626"
      ]
     },
     "execution_count": 123,
     "metadata": {},
     "output_type": "execute_result"
    }
   ],
   "source": [
    "# Define parameters\n",
    "light_intensity = 2.206*10**-3\n",
    "lattitude = math.radians(33.4)\n",
    "B_deg = -4.76 - 1.03*math.log(light_intensity)\n",
    "B_rad = math.radians(B_deg)\n",
    "alpha_deg = 90+B\n",
    "alpha_rad = math.radians(alpha_deg)\n",
    "M_deg = 0.985600*t - 3.251\n",
    "M_rad = math.radians(M_deg)\n",
    "Lambda_deg = M + 1.916*math.sin(M_rad) + 0.020*math.sin(2*M_rad) + 282.565\n",
    "Lambda_rad = math.radians(Lambda)\n",
    "Delta_rad = math.asin(0.39779*math.sin(Lambda_rad))\n",
    "Delta_deg = math.degrees(Delta)\n",
    "day_length = math.degrees(math.acos(math.cos(alpha_rad)*(1/math.cos(lattitude)*(1/math.cos(Delta_rad)-math.tan(lattitude)*math.tan(Delta_rad))))*(2/15))\n",
    "day_length\n"
   ]
  },
  {
   "cell_type": "code",
   "execution_count": 124,
   "metadata": {},
   "outputs": [
    {
     "name": "stdout",
     "output_type": "stream",
     "text": [
      "B = 1.54 \n",
      "alpha = 91.54 \n",
      "M = 194.8546 \n",
      "Lambda = 476.938 \n",
      "Delta = 20.77\n"
     ]
    }
   ],
   "source": [
    "print(\"B =\",round(B_deg,2),\n",
    "     \"\\nalpha =\",round(alpha_deg,2),\n",
    "     \"\\nM =\",round(M_deg,4),\n",
    "     \"\\nLambda =\",round(Lambda_deg,3),\n",
    "      \"\\nDelta =\", round(Delta_deg, 2)\n",
    "     )"
   ]
  }
 ],
 "metadata": {
  "kernelspec": {
   "display_name": "Python 3",
   "language": "python",
   "name": "python3"
  },
  "language_info": {
   "codemirror_mode": {
    "name": "ipython",
    "version": 3
   },
   "file_extension": ".py",
   "mimetype": "text/x-python",
   "name": "python",
   "nbconvert_exporter": "python",
   "pygments_lexer": "ipython3",
   "version": "3.7.4"
  }
 },
 "nbformat": 4,
 "nbformat_minor": 4
}
